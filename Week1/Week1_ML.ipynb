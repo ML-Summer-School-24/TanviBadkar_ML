{
 "cells": [
  {
   "cell_type": "code",
   "execution_count": 1,
   "id": "9c7613f4",
   "metadata": {},
   "outputs": [],
   "source": [
    "import pandas as pd"
   ]
  },
  {
   "cell_type": "code",
   "execution_count": 2,
   "id": "15e98189",
   "metadata": {},
   "outputs": [],
   "source": [
    "details= {'Roll Number':[2,14,16,27,30,38,42,44,48,50],'Name':['Priyal','Nikita','Chetan','Latha','Rama','Aarav','Noori','Suresh','Prem','Meera'],'Gender':['female','female','male','female','female','male','female','male','male','female'],'Marks1':[43,80,60,55,70,66,55,68,78,41],'Marks2':[30,73,50,30,45,67,63,43,23,46],'Marks3':[69,80,45,67,45,34,24,35,65,60]}\n",
    "df=pd.DataFrame(details)"
   ]
  },
  {
   "cell_type": "code",
   "execution_count": 3,
   "id": "02a3c785",
   "metadata": {},
   "outputs": [
    {
     "data": {
      "text/html": [
       "<div>\n",
       "<style scoped>\n",
       "    .dataframe tbody tr th:only-of-type {\n",
       "        vertical-align: middle;\n",
       "    }\n",
       "\n",
       "    .dataframe tbody tr th {\n",
       "        vertical-align: top;\n",
       "    }\n",
       "\n",
       "    .dataframe thead th {\n",
       "        text-align: right;\n",
       "    }\n",
       "</style>\n",
       "<table border=\"1\" class=\"dataframe\">\n",
       "  <thead>\n",
       "    <tr style=\"text-align: right;\">\n",
       "      <th></th>\n",
       "      <th>Roll Number</th>\n",
       "      <th>Name</th>\n",
       "      <th>Gender</th>\n",
       "      <th>Marks1</th>\n",
       "      <th>Marks2</th>\n",
       "      <th>Marks3</th>\n",
       "      <th>Total Marks</th>\n",
       "    </tr>\n",
       "  </thead>\n",
       "  <tbody>\n",
       "    <tr>\n",
       "      <th>0</th>\n",
       "      <td>2</td>\n",
       "      <td>Priyal</td>\n",
       "      <td>female</td>\n",
       "      <td>43</td>\n",
       "      <td>30</td>\n",
       "      <td>69</td>\n",
       "      <td>142</td>\n",
       "    </tr>\n",
       "    <tr>\n",
       "      <th>1</th>\n",
       "      <td>14</td>\n",
       "      <td>Nikita</td>\n",
       "      <td>female</td>\n",
       "      <td>80</td>\n",
       "      <td>73</td>\n",
       "      <td>80</td>\n",
       "      <td>233</td>\n",
       "    </tr>\n",
       "    <tr>\n",
       "      <th>2</th>\n",
       "      <td>16</td>\n",
       "      <td>Chetan</td>\n",
       "      <td>male</td>\n",
       "      <td>60</td>\n",
       "      <td>50</td>\n",
       "      <td>45</td>\n",
       "      <td>155</td>\n",
       "    </tr>\n",
       "    <tr>\n",
       "      <th>3</th>\n",
       "      <td>27</td>\n",
       "      <td>Latha</td>\n",
       "      <td>female</td>\n",
       "      <td>55</td>\n",
       "      <td>30</td>\n",
       "      <td>67</td>\n",
       "      <td>152</td>\n",
       "    </tr>\n",
       "    <tr>\n",
       "      <th>4</th>\n",
       "      <td>30</td>\n",
       "      <td>Rama</td>\n",
       "      <td>female</td>\n",
       "      <td>70</td>\n",
       "      <td>45</td>\n",
       "      <td>45</td>\n",
       "      <td>160</td>\n",
       "    </tr>\n",
       "    <tr>\n",
       "      <th>5</th>\n",
       "      <td>38</td>\n",
       "      <td>Aarav</td>\n",
       "      <td>male</td>\n",
       "      <td>66</td>\n",
       "      <td>67</td>\n",
       "      <td>34</td>\n",
       "      <td>167</td>\n",
       "    </tr>\n",
       "    <tr>\n",
       "      <th>6</th>\n",
       "      <td>42</td>\n",
       "      <td>Noori</td>\n",
       "      <td>female</td>\n",
       "      <td>55</td>\n",
       "      <td>63</td>\n",
       "      <td>24</td>\n",
       "      <td>142</td>\n",
       "    </tr>\n",
       "    <tr>\n",
       "      <th>7</th>\n",
       "      <td>44</td>\n",
       "      <td>Suresh</td>\n",
       "      <td>male</td>\n",
       "      <td>68</td>\n",
       "      <td>43</td>\n",
       "      <td>35</td>\n",
       "      <td>146</td>\n",
       "    </tr>\n",
       "    <tr>\n",
       "      <th>8</th>\n",
       "      <td>48</td>\n",
       "      <td>Prem</td>\n",
       "      <td>male</td>\n",
       "      <td>78</td>\n",
       "      <td>23</td>\n",
       "      <td>65</td>\n",
       "      <td>166</td>\n",
       "    </tr>\n",
       "    <tr>\n",
       "      <th>9</th>\n",
       "      <td>50</td>\n",
       "      <td>Meera</td>\n",
       "      <td>female</td>\n",
       "      <td>41</td>\n",
       "      <td>46</td>\n",
       "      <td>60</td>\n",
       "      <td>147</td>\n",
       "    </tr>\n",
       "  </tbody>\n",
       "</table>\n",
       "</div>"
      ],
      "text/plain": [
       "   Roll Number    Name  Gender  Marks1  Marks2  Marks3  Total Marks\n",
       "0            2  Priyal  female      43      30      69          142\n",
       "1           14  Nikita  female      80      73      80          233\n",
       "2           16  Chetan    male      60      50      45          155\n",
       "3           27   Latha  female      55      30      67          152\n",
       "4           30    Rama  female      70      45      45          160\n",
       "5           38   Aarav    male      66      67      34          167\n",
       "6           42   Noori  female      55      63      24          142\n",
       "7           44  Suresh    male      68      43      35          146\n",
       "8           48    Prem    male      78      23      65          166\n",
       "9           50   Meera  female      41      46      60          147"
      ]
     },
     "execution_count": 3,
     "metadata": {},
     "output_type": "execute_result"
    }
   ],
   "source": [
    "df['Total Marks']=df['Marks1']+df['Marks2']+df['Marks3']\n",
    "df"
   ]
  },
  {
   "cell_type": "code",
   "execution_count": 4,
   "id": "9ddb6a9f",
   "metadata": {},
   "outputs": [
    {
     "data": {
      "text/plain": [
       "41"
      ]
     },
     "execution_count": 4,
     "metadata": {},
     "output_type": "execute_result"
    }
   ],
   "source": [
    "min1=df['Marks1'].min()\n",
    "min1"
   ]
  },
  {
   "cell_type": "code",
   "execution_count": 5,
   "id": "2f4da765",
   "metadata": {},
   "outputs": [
    {
     "data": {
      "text/plain": [
       "73"
      ]
     },
     "execution_count": 5,
     "metadata": {},
     "output_type": "execute_result"
    }
   ],
   "source": [
    "max2=df['Marks2'].max()\n",
    "max2"
   ]
  },
  {
   "cell_type": "code",
   "execution_count": 6,
   "id": "074500eb",
   "metadata": {},
   "outputs": [
    {
     "data": {
      "text/plain": [
       "Marks3    52.4\n",
       "dtype: float64"
      ]
     },
     "execution_count": 6,
     "metadata": {},
     "output_type": "execute_result"
    }
   ],
   "source": [
    "df[['Marks3']].mean()"
   ]
  },
  {
   "cell_type": "code",
   "execution_count": 7,
   "id": "918a1b58",
   "metadata": {},
   "outputs": [
    {
     "name": "stdout",
     "output_type": "stream",
     "text": [
      "1    Nikita\n",
      "Name: Name, dtype: object\n"
     ]
    }
   ],
   "source": [
    "Havg=df[df['Total Marks']==df['Total Marks'].max()]\n",
    "print((Havg['Name']))"
   ]
  },
  {
   "cell_type": "code",
   "execution_count": 8,
   "id": "5660ace8",
   "metadata": {},
   "outputs": [
    {
     "name": "stdout",
     "output_type": "stream",
     "text": [
      "3\n"
     ]
    }
   ],
   "source": [
    "failed =df[df['Marks2']<40]\n",
    "print((failed.shape[0]))"
   ]
  },
  {
   "cell_type": "code",
   "execution_count": 9,
   "id": "98d0e685",
   "metadata": {},
   "outputs": [
    {
     "data": {
      "text/html": [
       "<div>\n",
       "<style scoped>\n",
       "    .dataframe tbody tr th:only-of-type {\n",
       "        vertical-align: middle;\n",
       "    }\n",
       "\n",
       "    .dataframe tbody tr th {\n",
       "        vertical-align: top;\n",
       "    }\n",
       "\n",
       "    .dataframe thead th {\n",
       "        text-align: right;\n",
       "    }\n",
       "</style>\n",
       "<table border=\"1\" class=\"dataframe\">\n",
       "  <thead>\n",
       "    <tr style=\"text-align: right;\">\n",
       "      <th></th>\n",
       "      <th>Roll Number</th>\n",
       "      <th>Marks1</th>\n",
       "      <th>Marks2</th>\n",
       "      <th>Marks3</th>\n",
       "      <th>Total Marks</th>\n",
       "    </tr>\n",
       "  </thead>\n",
       "  <tbody>\n",
       "    <tr>\n",
       "      <th>count</th>\n",
       "      <td>10.000000</td>\n",
       "      <td>10.000000</td>\n",
       "      <td>10.000000</td>\n",
       "      <td>10.000000</td>\n",
       "      <td>10.000000</td>\n",
       "    </tr>\n",
       "    <tr>\n",
       "      <th>mean</th>\n",
       "      <td>31.100000</td>\n",
       "      <td>61.600000</td>\n",
       "      <td>47.000000</td>\n",
       "      <td>52.400000</td>\n",
       "      <td>161.000000</td>\n",
       "    </tr>\n",
       "    <tr>\n",
       "      <th>std</th>\n",
       "      <td>16.196364</td>\n",
       "      <td>13.326665</td>\n",
       "      <td>16.719915</td>\n",
       "      <td>18.331515</td>\n",
       "      <td>26.886593</td>\n",
       "    </tr>\n",
       "    <tr>\n",
       "      <th>min</th>\n",
       "      <td>2.000000</td>\n",
       "      <td>41.000000</td>\n",
       "      <td>23.000000</td>\n",
       "      <td>24.000000</td>\n",
       "      <td>142.000000</td>\n",
       "    </tr>\n",
       "    <tr>\n",
       "      <th>25%</th>\n",
       "      <td>18.750000</td>\n",
       "      <td>55.000000</td>\n",
       "      <td>33.250000</td>\n",
       "      <td>37.500000</td>\n",
       "      <td>146.250000</td>\n",
       "    </tr>\n",
       "    <tr>\n",
       "      <th>50%</th>\n",
       "      <td>34.000000</td>\n",
       "      <td>63.000000</td>\n",
       "      <td>45.500000</td>\n",
       "      <td>52.500000</td>\n",
       "      <td>153.500000</td>\n",
       "    </tr>\n",
       "    <tr>\n",
       "      <th>75%</th>\n",
       "      <td>43.500000</td>\n",
       "      <td>69.500000</td>\n",
       "      <td>59.750000</td>\n",
       "      <td>66.500000</td>\n",
       "      <td>164.500000</td>\n",
       "    </tr>\n",
       "    <tr>\n",
       "      <th>max</th>\n",
       "      <td>50.000000</td>\n",
       "      <td>80.000000</td>\n",
       "      <td>73.000000</td>\n",
       "      <td>80.000000</td>\n",
       "      <td>233.000000</td>\n",
       "    </tr>\n",
       "  </tbody>\n",
       "</table>\n",
       "</div>"
      ],
      "text/plain": [
       "       Roll Number     Marks1     Marks2     Marks3  Total Marks\n",
       "count    10.000000  10.000000  10.000000  10.000000    10.000000\n",
       "mean     31.100000  61.600000  47.000000  52.400000   161.000000\n",
       "std      16.196364  13.326665  16.719915  18.331515    26.886593\n",
       "min       2.000000  41.000000  23.000000  24.000000   142.000000\n",
       "25%      18.750000  55.000000  33.250000  37.500000   146.250000\n",
       "50%      34.000000  63.000000  45.500000  52.500000   153.500000\n",
       "75%      43.500000  69.500000  59.750000  66.500000   164.500000\n",
       "max      50.000000  80.000000  73.000000  80.000000   233.000000"
      ]
     },
     "execution_count": 9,
     "metadata": {},
     "output_type": "execute_result"
    }
   ],
   "source": [
    "table=df.describe()\n",
    "table"
   ]
  },
  {
   "cell_type": "code",
   "execution_count": null,
   "id": "bb562b14",
   "metadata": {},
   "outputs": [],
   "source": []
  }
 ],
 "metadata": {
  "kernelspec": {
   "display_name": "Python 3 (ipykernel)",
   "language": "python",
   "name": "python3"
  },
  "language_info": {
   "codemirror_mode": {
    "name": "ipython",
    "version": 3
   },
   "file_extension": ".py",
   "mimetype": "text/x-python",
   "name": "python",
   "nbconvert_exporter": "python",
   "pygments_lexer": "ipython3",
   "version": "3.9.7"
  }
 },
 "nbformat": 4,
 "nbformat_minor": 5
}
